{
 "cells": [
  {
   "cell_type": "code",
   "execution_count": null,
   "metadata": {},
   "outputs": [],
   "source": []
  },
  {
   "cell_type": "code",
   "execution_count": 1,
   "metadata": {},
   "outputs": [],
   "source": [
    "import mysql.connector\n",
    "from mysql.connector import Error"
   ]
  },
  {
   "cell_type": "code",
   "execution_count": 2,
   "metadata": {},
   "outputs": [
    {
     "name": "stdout",
     "output_type": "stream",
     "text": [
      "Existing database glass_db dropped\n",
      "Database is created\n"
     ]
    }
   ],
   "source": [
    "try:\n",
    "    conn = mysql.connector.connect(host='localhost', user='root', password='12345') \n",
    "                        \n",
    "    if conn.is_connected():\n",
    "        cursor = conn.cursor()\n",
    "        cursor.execute(\"DROP DATABASE IF EXISTS glass_db\")\n",
    "        print('Existing database glass_db dropped')\n",
    "        cursor.execute(\"CREATE DATABASE glass_db\")\n",
    "        print(\"Database is created\")\n",
    "except Error as e:\n",
    "    print(\"Error while connecting to MySQL\", e)"
   ]
  },
  {
   "cell_type": "code",
   "execution_count": 3,
   "metadata": {},
   "outputs": [
    {
     "name": "stdout",
     "output_type": "stream",
     "text": [
      "You're connected to database\n",
      "Creating table....\n",
      "Table is created....\n"
     ]
    }
   ],
   "source": [
    "try:\n",
    "    if conn.is_connected():\n",
    "        cursor = conn.cursor()\n",
    "        cursor.execute(\"use glass_db;\")\n",
    "        print(\"You're connected to database\")\n",
    "        cursor.execute('DROP TABLE IF EXISTS glass;')\n",
    "        print('Creating table....')\n",
    "        cursor.execute(\"\"\"CREATE TABLE glass(index_ int, RI float, Na float, Mg float, Al float, Si float, K  float, Ca float, Ba float, Fe float, Class int)\"\"\")\n",
    "        conn.commit()\n",
    "        print(\"Table is created....\")\n",
    "except Error as e:\n",
    "    print(\"Error while connecting to MySQL\", e)"
   ]
  },
  {
   "cell_type": "code",
   "execution_count": 4,
   "metadata": {},
   "outputs": [
    {
     "name": "stdout",
     "output_type": "stream",
     "text": [
      "Records inserted into table\n"
     ]
    }
   ],
   "source": [
    "# Here using inbuild file operations library and csv library to open and fetch records from glass dataset\n",
    "# the header record has the word 'index' in it which is giving error when inserting that record. \n",
    "# removing the header record is working fine for insertion operation\n",
    "import csv\n",
    "with open('glass1.data','r') as f:\n",
    "    glass_data=csv.reader(f,delimiter='\\n')\n",
    "    for record in glass_data:\n",
    "#        print('inserting: ',record[0])\n",
    "        cursor.execute(f\"insert into glass_db.glass values({record[0]})\")\n",
    "conn.commit()\n",
    "print('Records inserted into table')"
   ]
  },
  {
   "cell_type": "code",
   "execution_count": null,
   "metadata": {},
   "outputs": [],
   "source": []
  },
  {
   "cell_type": "code",
   "execution_count": null,
   "metadata": {},
   "outputs": [],
   "source": []
  },
  {
   "cell_type": "code",
   "execution_count": null,
   "metadata": {},
   "outputs": [],
   "source": []
  }
 ],
 "metadata": {
  "kernelspec": {
   "display_name": "base",
   "language": "python",
   "name": "python3"
  },
  "language_info": {
   "codemirror_mode": {
    "name": "ipython",
    "version": 3
   },
   "file_extension": ".py",
   "mimetype": "text/x-python",
   "name": "python",
   "nbconvert_exporter": "python",
   "pygments_lexer": "ipython3",
   "version": "3.8.5"
  },
  "orig_nbformat": 4,
  "vscode": {
   "interpreter": {
    "hash": "3e7ef4a4c04b9df685031c7817c068296d36ccdc8bf89d6a9900a4397f329a74"
   }
  }
 },
 "nbformat": 4,
 "nbformat_minor": 2
}
